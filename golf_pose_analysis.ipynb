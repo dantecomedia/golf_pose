{
  "nbformat": 4,
  "nbformat_minor": 0,
  "metadata": {
    "colab": {
      "provenance": [],
      "collapsed_sections": []
    },
    "kernelspec": {
      "name": "python3",
      "display_name": "Python 3"
    },
    "language_info": {
      "name": "python"
    }
  },
  "cells": [
    {
      "cell_type": "markdown",
      "source": [
        "LOADING BASIC DEPENDECIES \n"
      ],
      "metadata": {
        "id": "zsNrNxkBvjf6"
      }
    },
    {
      "cell_type": "code",
      "source": [
        "import cv2\n",
        "import numpy as np\n",
        "import mediapipe as mp\n",
        "import pandas as pd\n",
        "import matplotlib.pyplot as plt\n",
        "mp_drawing = mp.solutions.drawing_utils\n",
        "mp_drawing_styles = mp.solutions.drawing_styles\n",
        "mp_pose = mp.solutions.pose"
      ],
      "metadata": {
        "id": "u14Cqz5slpka"
      },
      "execution_count": 1,
      "outputs": []
    },
    {
      "cell_type": "markdown",
      "source": [
        "TO Compute ANGLE\n"
      ],
      "metadata": {
        "id": "BbNoOeiLvnse"
      }
    },
    {
      "cell_type": "code",
      "source": [
        "def calculate_angle(a,b,c):\n",
        "    a = np.array(a) # First\n",
        "    b = np.array(b) # Mid\n",
        "    c = np.array(c) # End\n",
        "    \n",
        "    radians = np.arctan2(c[1]-b[1], c[0]-b[0]) - np.arctan2(a[1]-b[1], a[0]-b[0])\n",
        "    angle = np.abs(radians*180.0/np.pi)\n",
        "    \n",
        "    if angle >180.0:\n",
        "        angle = 360-angle\n",
        "        \n",
        "    return angle "
      ],
      "metadata": {
        "id": "fZecbqDMmSnU"
      },
      "execution_count": 2,
      "outputs": []
    },
    {
      "cell_type": "markdown",
      "source": [
        "INSTALLING BASIC DEPENDENCIES\n"
      ],
      "metadata": {
        "id": "M6NX7NskvvDS"
      }
    },
    {
      "cell_type": "code",
      "source": [
        "#!pip install mediapipe\n",
        "#!pip install youtube-dl==2020.12.2\n",
        "#!pip install pafy\n"
      ],
      "metadata": {
        "id": "szh2A6O0vM-j"
      },
      "execution_count": null,
      "outputs": []
    },
    {
      "cell_type": "code",
      "execution_count": 24,
      "metadata": {
        "id": "oBQW8SwZllmr"
      },
      "outputs": [],
      "source": [
        "def return_pose(img):\n",
        "    \n",
        "\n",
        "    #img = cv2.imread(img, 1)    #UNCOMMENT TO TEST ON SCREENSHOT OR IMAGE\n",
        "    #cv2.imshow(\"m\",img)\n",
        "    with mp_pose.Pose(min_detection_confidence=0.5, min_tracking_confidence=0.5) as pose:\n",
        "\n",
        "\n",
        "        # Recolor image to RGB\n",
        "        image = cv2.cvtColor(img, cv2.COLOR_BGR2RGB)\n",
        "        image.flags.writeable = False\n",
        "\n",
        "        # Make detection\n",
        "        results = pose.process(image)\n",
        "\n",
        "        # Recolor back to BGR\n",
        "        image.flags.writeable = True\n",
        "        image = cv2.cvtColor(image, cv2.COLOR_RGB2BGR)\n",
        "\n",
        "        # Extract landmarks\n",
        "        try:\n",
        "            landmarks = results.pose_landmarks.landmark\n",
        "            #print(landmarks)\n",
        "        except Exception as e:\n",
        "            return \"no_landmarks_detected\"\n",
        "            \n",
        "            \n",
        "\n",
        "\n",
        "        # Render detections\n",
        "        mp_drawing.draw_landmarks(image, results.pose_landmarks, mp_pose.POSE_CONNECTIONS,\n",
        "                                mp_drawing.DrawingSpec(color=(245,117,66), thickness=2, circle_radius=2), \n",
        "                                mp_drawing.DrawingSpec(color=(245,66,230), thickness=2, circle_radius=2) \n",
        "                                 )               \n",
        "\n",
        "        #cv2.imshow('Mediapipe Feed', image)\n",
        "        \n",
        "\n",
        "\n",
        "\n",
        "    #address position\n",
        "\n",
        "    #address position\n",
        "\n",
        "    right_shoulder=[landmarks[mp_pose.PoseLandmark.RIGHT_SHOULDER.value].x,landmarks[mp_pose.PoseLandmark.RIGHT_SHOULDER.value].y]\n",
        "    right_hip = [landmarks[mp_pose.PoseLandmark.RIGHT_HIP.value].x,landmarks[mp_pose.PoseLandmark.RIGHT_HIP.value].y]\n",
        "    right_knee = [landmarks[mp_pose.PoseLandmark.RIGHT_KNEE.value].x,landmarks[mp_pose.PoseLandmark.RIGHT_KNEE.value].y]\n",
        "    right_elbow=[landmarks[mp_pose.PoseLandmark.RIGHT_ELBOW.value].x,landmarks[mp_pose.PoseLandmark.RIGHT_ELBOW.value].y]\n",
        "    right_wrist=[landmarks[mp_pose.PoseLandmark.RIGHT_WRIST.value].x,landmarks[mp_pose.PoseLandmark.RIGHT_WRIST.value].y]\n",
        "    right_ankle=[landmarks[mp_pose.PoseLandmark.RIGHT_ANKLE.value].x,landmarks[mp_pose.PoseLandmark.RIGHT_ANKLE.value].y]\n",
        "\n",
        "    left_shoulder=[landmarks[mp_pose.PoseLandmark.LEFT_SHOULDER.value].x,landmarks[mp_pose.PoseLandmark.LEFT_SHOULDER.value].y]\n",
        "    left_hip = [landmarks[mp_pose.PoseLandmark.LEFT_HIP.value].x,landmarks[mp_pose.PoseLandmark.LEFT_HIP.value].y]\n",
        "    left_knee = [landmarks[mp_pose.PoseLandmark.LEFT_KNEE.value].x,landmarks[mp_pose.PoseLandmark.LEFT_KNEE.value].y]\n",
        "    left_elbow=[landmarks[mp_pose.PoseLandmark.LEFT_ELBOW.value].x,landmarks[mp_pose.PoseLandmark.LEFT_ELBOW.value].y]\n",
        "    left_wrist=[landmarks[mp_pose.PoseLandmark.LEFT_WRIST.value].x,landmarks[mp_pose.PoseLandmark.LEFT_WRIST.value].y]\n",
        "    left_ankle=[landmarks[mp_pose.PoseLandmark.LEFT_ANKLE.value].x,landmarks[mp_pose.PoseLandmark.LEFT_ANKLE.value].y]\n",
        "\n",
        "    angle_rs_re_rw=calculate_angle(right_shoulder, right_elbow, right_wrist)   #angle between rs, re,rw\n",
        "    angle_rs_rh_rk=calculate_angle(right_shoulder, right_hip, right_knee)      #angle between rs,rh,rk\n",
        "    angle_ls_le_lw=calculate_angle(left_shoulder, left_elbow, left_wrist)      #angle between ls,le,lw\n",
        "    angle_ls_lh_lk=calculate_angle(left_shoulder, left_hip, left_knee)         #angle between ls,lh,lk\n",
        "\n",
        "    angle_ls_rh_re=calculate_angle(left_shoulder,right_shoulder, right_elbow)  #angle between ls,rh,re\n",
        "    angle_rs_lh_le=calculate_angle(right_shoulder,left_shoulder, left_elbow)   #angle between rs,lh,le\n",
        "    angle_re_rw_le=calculate_angle(right_elbow,right_wrist, left_elbow)        #angle between re,rw,le\n",
        "    angle_re_lw_le=calculate_angle(right_elbow,left_wrist, left_elbow)         #angle between re,lw,le\n",
        "\n",
        "    angle_rh_rk_ra=calculate_angle(right_hip,right_knee, right_ankle)          #angle between rh,rk,ra\n",
        "    angle_lh_lk_la=calculate_angle(left_hip,left_knee, left_ankle)             #angle between lh,lk,la\n",
        "\n",
        "\n",
        "\n",
        "\n",
        "    if (angle_rs_re_rw>=145 and angle_rs_re_rw<=155) or (angle_rs_rh_rk>=119 and angle_rs_rh_rk<=123) and (angle_ls_le_lw>=145 and angle_ls_le_lw<=155) or (angle_ls_lh_lk>=119 and angle_ls_lh_lk<=123): \n",
        "        return (\"Address_position\")\n",
        "\n",
        "    if (angle_ls_rh_re>=75 and angle_ls_rh_re<=99) and (angle_rs_lh_le>=75 and angle_rs_lh_le<=99) and (angle_re_rw_le>=58 and angle_re_rw_le<=81) and (angle_re_lw_le>=58 and angle_re_lw_le<=81) and ((angle_ls_le_lw>=150 and angle_ls_le_lw<=163)) and ((angle_rs_re_rw>=150 and angle_rs_re_rw<=162)):\n",
        "        return (\"Front Facing Address Position\")\n",
        "\n",
        "    if (angle_rh_rk_ra>=148 and angle_rh_rk_ra<=170) and (angle_lh_lk_la>=148 and angle_lh_lk_la<=170) and (angle_rs_re_rw>=133 and angle_rs_re_rw<=162) and (angle_ls_le_lw>=133 and angle_ls_le_lw<=162) and (angle_rs_rh_rk>=110 and angle_rs_rh_rk<=135) and (angle_ls_lh_lk>=110 and angle_ls_lh_lk<=135):\n",
        "        return (\"A2 - Shaft Horizontal (Backswing)\")\n",
        "\n",
        "    if (angle_rs_rh_rk>=158 and angle_rs_rh_rk<=161) and (angle_ls_lh_lk>=158 and angle_ls_lh_lk<=160) and (angle_rs_lh_le>=65 and angle_rs_lh_le<=68) and (angle_ls_rh_re>=103 and angle_rs_lh_le<=105) or (angle_ls_rh_re>=65 and angle_ls_rh_re<=68) and (angle_rs_lh_le>=103 and angle_rs_lh_le<=105) and (angle_rs_re_rw>=165 and angle_rs_re_rw<=169) and (angle_ls_le_lw>=149 and angle_ls_le_lw<=151):\n",
        "        return (\"Front A2 - Shaft Horizontal (Backswing)\")\n",
        "\n",
        "    if angle_ls_le_lw<=142 and angle_ls_le_lw>=138 and angle_rs_re_rw>=90 and angle_rs_re_rw<=94 and angle_rs_lh_le>=42 and angle_rs_lh_le<=45 and angle_ls_lh_lk>=109 and angle_ls_lh_lk<=111 and angle_rs_rh_rk>=121 and angle_rs_rh_rk<=126 and angle_lh_lk_la>=139 and angle_lh_lk_la<=141 and angle_rh_rk_ra>=159 and angle_rh_rk_ra<=162:\n",
        "        return(\"Lead Arm Horizontal (Backswing)\")\n",
        "\n",
        "    if angle_rs_re_rw>=140 and angle_rs_re_rw<=148 and angle_rs_rh_rk>=100 and angle_rs_rh_rk<=110 and angle_ls_le_lw>=110 and angle_ls_le_lw<=118 and angle_ls_lh_lk>=120 and angle_ls_lh_lk<=125 and angle_ls_rh_re>=45 and angle_ls_rh_re<=50 and angle_rs_lh_le>=145 and angle_rs_lh_le<=150 and angle_re_rw_le>173 and angle_re_rw_le<=175 and angle_re_lw_le>=75 and angle_re_lw_le<=78 and angle_rh_rk_ra>=135 and angle_rh_rk_ra<=145 and angle_lh_lk_la>=145 and angle_lh_lk_la<=150:\n",
        "        return(\"A3 - Lead Arm Horizontal (Backswing)\")\n",
        "\n",
        "    if angle_rs_re_rw>=115 and angle_rs_re_rw<=120 and angle_rs_rh_rk>=148 and angle_rs_rh_rk<=155 and angle_ls_le_lw>=148 and angle_ls_le_lw<=155 and angle_ls_lh_lk>=170 and angle_ls_lh_lk<=180 and angle_ls_rh_re>=115 and angle_ls_rh_re<=120 and angle_rs_lh_le>=30 and angle_rs_lh_le<=35 and angle_re_rw_le>=0 and angle_re_rw_le<=2 and angle_re_lw_le>=0 and angle_re_lw_le<=2 and angle_rh_rk_ra>=170 and angle_rh_rk_ra<=180 and angle_lh_lk_la>=150 and angle_lh_lk_la<=160:\n",
        "        return(\"Front A3 - Lead Arm Horizontal (Backswing)\")\n",
        "\n",
        "    if angle_rs_re_rw>=120 and angle_rs_re_rw<=130 and angle_rs_rh_rk>=148 and angle_rs_rh_rk<=155 and angle_ls_le_lw>=120 and angle_ls_le_lw<=130 and angle_ls_lh_lk>=170 and angle_ls_lh_lk<=180 and angle_ls_rh_re>=155 and angle_ls_rh_re<=162 and angle_rs_lh_le>=9 and angle_rs_lh_le<=15 and angle_re_rw_le>=20 and angle_re_rw_le<=30 and angle_re_lw_le>=20 and angle_re_lw_le<=30 and angle_rh_rk_ra>=167 and angle_rh_rk_ra<=175 and angle_lh_lk_la>=166 and angle_lh_lk_la<=174:\n",
        "        return(\"Front A4 - Top of the Backswing\")\n",
        "\n",
        "    if angle_rs_re_rw>=90 and angle_rs_re_rw<=95 and angle_rs_rh_rk>=120 and angle_rs_rh_rk<=128 and angle_ls_le_lw>=139 and angle_ls_le_lw<=146 and angle_ls_lh_lk>=102 and angle_ls_lh_lk<=110 and angle_ls_rh_re>=120 and angle_ls_rh_re<=130 and angle_rs_lh_le>=25 and angle_rs_lh_le<=30 and angle_re_rw_le>=15 and angle_re_rw_le<=25 and angle_re_lw_le>=10 and angle_re_lw_le<=18 and angle_rh_rk_ra>=160 and angle_rh_rk_ra<=168 and angle_lh_lk_la>=130 and angle_lh_lk_la<=140:\n",
        "        return(\"A4 - Top of the Backswing\")\n",
        "\n",
        "\n",
        "    if angle_rs_re_rw>=115 and angle_rs_re_rw<=120 and angle_rs_rh_rk>=145 and angle_rs_rh_rk<=155 and angle_ls_le_lw>=145 and angle_ls_le_lw<=155 and angle_ls_lh_lk>=170 and angle_ls_lh_lk<=180 and angle_ls_rh_re>=115 and angle_ls_rh_re<=120 and angle_rs_lh_le>=30 and angle_rs_lh_le<=35 and angle_re_rw_le>=0 and angle_re_rw_le<=2 and angle_re_lw_le>=0 and angle_re_lw_le<=2 and angle_rh_rk_ra>=170 and angle_rh_rk_ra<=180 and angle_lh_lk_la>=150 and angle_lh_lk_la<=160:\n",
        "        return(\"Front A5 - Lead Arm Horizontal (Downswing)\")\n",
        "\n",
        "\n",
        "    if angle_rs_re_rw>=115 and angle_rs_re_rw<=120 and angle_rs_rh_rk>=145 and angle_rs_rh_rk<=155 and angle_ls_le_lw>=145 and angle_ls_le_lw<=155 and angle_ls_lh_lk>=170 and angle_ls_lh_lk<=180 and angle_ls_rh_re>=115 and angle_ls_rh_re<=120 and angle_rs_lh_le>=30 and angle_rs_lh_le<=35 and angle_re_rw_le>=0 and angle_re_rw_le<=2 and angle_re_lw_le>=0 and angle_re_lw_le<=2 and angle_rh_rk_ra>=170 and angle_rh_rk_ra<=180 and angle_lh_lk_la>=150 and angle_lh_lk_la<=160:\n",
        "        return(\"Front A5 - Lead Arm Horizontal (Downswing)\")\n",
        "\n",
        "    if angle_rs_re_rw>=90 and angle_rs_re_rw<=100 and angle_rs_rh_rk>=160 and angle_rs_rh_rk<=170 and angle_ls_le_lw>=160 and angle_ls_le_lw<=170 and angle_ls_lh_lk>=160 and angle_ls_lh_lk<=170 and angle_ls_rh_re>=69 and angle_ls_rh_re<=80 and angle_rs_lh_le>=60 and angle_rs_lh_le<=70 and angle_re_rw_le>=20 and angle_re_rw_le<=30 and angle_re_lw_le>=30 and angle_re_lw_le<=40 and angle_rh_rk_ra>=130 and angle_rh_rk_ra<=140 and angle_lh_lk_la>=170 and angle_lh_lk_la<=180:\n",
        "        return(\"A10 - End of Swing\")\n",
        "\n",
        "    if angle_rs_re_rw>=150 and angle_rs_re_rw<=160 and angle_rs_rh_rk>=140 and angle_rs_rh_rk<=150 and angle_ls_le_lw>=60 and angle_ls_le_lw<=75 and angle_ls_lh_lk>=150 and angle_ls_lh_lk<=160 and angle_ls_rh_re>=0 and angle_ls_rh_re<=2 and angle_rs_lh_le>=140 and angle_rs_lh_le<=150 and angle_re_rw_le>=75 and angle_re_rw_le<=80 and angle_re_lw_le>=60 and angle_re_lw_le<=70 and angle_rh_rk_ra>=170 and angle_rh_rk_ra<=180 and angle_lh_lk_la>=170 and angle_lh_lk_la<=180:\n",
        "        return(\"BACK A10 - End of Swing\")\n",
        "\n",
        "    if angle_rs_re_rw>=150 and angle_rs_re_rw<=160 and angle_rs_rh_rk>=140 and angle_rs_rh_rk<=150 and angle_ls_le_lw>=60 and angle_ls_le_lw<=75 and angle_ls_lh_lk>=150 and angle_ls_lh_lk<=160 and angle_ls_rh_re>=0 and angle_ls_rh_re<=2 and angle_rs_lh_le>=140 and angle_rs_lh_le<=150 and angle_re_rw_le>=75 and angle_re_rw_le<=80 and angle_re_lw_le>=60 and angle_re_lw_le<=70 and angle_rh_rk_ra>=170 and angle_rh_rk_ra<=180 and angle_lh_lk_la>=170 and angle_lh_lk_la<=180:\n",
        "        return(\"BACK A10 - End of Swing\")\n",
        "\n",
        "    if angle_rs_re_rw>=170 and angle_rs_re_rw<=180 and angle_rs_rh_rk>=130 and angle_rs_rh_rk<=150 and angle_ls_le_lw>=150 and angle_ls_le_lw<=168 and angle_ls_lh_lk>=170 and angle_ls_lh_lk<=180 and angle_ls_rh_re>=105 and angle_ls_rh_re<=115 and angle_rs_lh_le>=55 and angle_rs_lh_le<=65 and angle_re_rw_le>=50 and angle_re_rw_le<=65 and angle_re_lw_le>=60 and angle_re_lw_le<=70 and angle_rh_rk_ra>=155 and angle_rh_rk_ra<=175 and angle_lh_lk_la>=155 and angle_lh_lk_la<=165:\n",
        "        return(\"Front A6 - Shaft Horizontal (Downswing)\")\n",
        "\n",
        "    if angle_rs_re_rw>=115 and angle_rs_re_rw<=125 and angle_rs_rh_rk>=110 and angle_rs_rh_rk<=120 and angle_ls_le_lw>=165 and angle_ls_le_lw<=175 and angle_ls_lh_lk>=115 and angle_ls_lh_lk<=125 and angle_ls_rh_re>=80 and angle_ls_rh_re<=100 and angle_rs_lh_le>=120 and angle_rs_lh_le<=130 and angle_re_rw_le>=60 and angle_re_rw_le<=70 and angle_re_lw_le>=45 and angle_re_lw_le<=55 and angle_rh_rk_ra>=135 and angle_rh_rk_ra<=145 and angle_lh_lk_la>=145 and angle_lh_lk_la<=155:\n",
        "        return(\"A6 - Shaft Horizontal (Downswing)\")\n",
        "\n",
        "    if angle_rs_re_rw>=20 and angle_rs_re_rw<=30 and angle_rs_rh_rk>=127 and angle_rs_rh_rk<=135 and angle_ls_le_lw>=85 and angle_ls_le_lw<=95 and angle_ls_lh_lk>=140 and angle_ls_lh_lk<=145 and angle_ls_rh_re>=140 and angle_ls_rh_re<=150 and angle_rs_lh_le>=50 and angle_rs_lh_le<=60 and angle_re_rw_le>=75 and angle_re_rw_le<=85 and angle_re_lw_le>=130 and angle_re_lw_le<=140 and angle_rh_rk_ra>=150 and angle_rh_rk_ra<=165 and angle_lh_lk_la>=165 and angle_lh_lk_la<=185:\n",
        "        return(\"A9 - Lead Arm Horizontal to the Ground on Follow-Through\")\n",
        "\n",
        "    if angle_rs_re_rw>=159 and angle_rs_re_rw<=165 and angle_rs_rh_rk>=130 and angle_rs_rh_rk<=145 and angle_ls_le_lw>=170 and angle_ls_le_lw<=180 and angle_ls_lh_lk>=155 and angle_ls_lh_lk<=170 and angle_ls_rh_re>=62 and angle_ls_rh_re<=70 and angle_rs_lh_le>=95 and angle_rs_lh_le<=105 and angle_re_rw_le>=35 and angle_re_rw_le<=45 and angle_re_lw_le>=30 and angle_re_lw_le<=40 and angle_rh_rk_ra>=140 and angle_rh_rk_ra<=150 and angle_lh_lk_la>=165 and angle_lh_lk_la<=185:\n",
        "        return(\"Front A9 - Lead Arm Horizontal to the Ground on Follow-Through\")\n",
        "    \n",
        "    \n",
        "    return \"Nothing Detected\"\n",
        "\n"
      ]
    },
    {
      "cell_type": "code",
      "source": [
        "from PIL import Image\n",
        " \n",
        "# creating a object\n",
        "im = Image.open(r\"/content/Screenshot 2022-10-02 at 9.38.14 PM.png\")\n",
        " "
      ],
      "metadata": {
        "id": "RCtmnlfmpUKb"
      },
      "execution_count": 4,
      "outputs": []
    },
    {
      "cell_type": "code",
      "source": [
        "return_pose(\"/content/Screenshot 2022-10-02 at 9.38.14 PM.png\") # TEST BY ADDING IMAGE IN THE PARAMETER"
      ],
      "metadata": {
        "colab": {
          "base_uri": "https://localhost:8080/",
          "height": 35
        },
        "id": "iO-B6lfYmABV",
        "outputId": "b0be133a-d98d-4021-cd47-49d896d8c35e"
      },
      "execution_count": 20,
      "outputs": [
        {
          "output_type": "execute_result",
          "data": {
            "text/plain": [
              "'Address_position'"
            ],
            "application/vnd.google.colaboratory.intrinsic+json": {
              "type": "string"
            }
          },
          "metadata": {},
          "execution_count": 20
        }
      ]
    },
    {
      "cell_type": "code",
      "source": [
        "import pafy\n",
        "import cv2\n",
        "\n",
        "url = \"https://www.youtube.com/watch?v=qzQ3ejnUMK8\" #Load Youtube URL\n",
        "video = pafy.new(url)\n",
        "best = video.getbest(preftype=\"mp4\")\n",
        "\n",
        "#capture = cv2.VideoCapture(best.url)"
      ],
      "metadata": {
        "id": "vPGATmysrVvA"
      },
      "execution_count": 16,
      "outputs": []
    },
    {
      "cell_type": "markdown",
      "source": [
        "RUN TO TEST THE POSE ESTIMATOR ON VIDEO\n"
      ],
      "metadata": {
        "id": "Wi2fmKkEwDJ8"
      }
    },
    {
      "cell_type": "code",
      "source": [
        "vidcap = cv2.VideoCapture(best.url)\n",
        "fps = vidcap.get(cv2.CAP_PROP_FPS)\n",
        "success,image = vidcap.read()\n",
        "count = 0\n",
        "success = True\n",
        "time_Stamp_pose=[]\n",
        "while success:\n",
        "  success,frame = vidcap.read()\n",
        "  count+=1\n",
        "  det=return_pose(frame)\n",
        "  temp_dic={}\n",
        "  if det!=\"Nothing Detected\" and  det!='no_landmarks_detected':\n",
        "    temp_dic['time_stamp']=count/fps\n",
        "    temp_dic['pose']=det\n",
        "    time_Stamp_pose.append(temp_dic)\n",
        "    print(temp_dic)\n",
        "\n",
        "  #print(\"time stamp current frame:\",count/fps)\n"
      ],
      "metadata": {
        "colab": {
          "base_uri": "https://localhost:8080/"
        },
        "id": "pt1AX66QmJhF",
        "outputId": "39b477d1-de8b-4ff2-916b-86b1d9ca75f4"
      },
      "execution_count": null,
      "outputs": [
        {
          "output_type": "stream",
          "name": "stdout",
          "text": [
            "{'time_stamp': 17.851166666666668, 'pose': 'Address_position'}\n",
            "{'time_stamp': 20.353666666666665, 'pose': 'Address_position'}\n",
            "{'time_stamp': 22.956266666666668, 'pose': 'Address_position'}\n",
            "{'time_stamp': 23.790433333333333, 'pose': 'Address_position'}\n",
            "{'time_stamp': 24.424400000000002, 'pose': 'Address_position'}\n",
            "{'time_stamp': 24.457766666666668, 'pose': 'Address_position'}\n",
            "{'time_stamp': 24.557866666666666, 'pose': 'Address_position'}\n",
            "{'time_stamp': 24.591233333333335, 'pose': 'Address_position'}\n",
            "{'time_stamp': 24.691333333333333, 'pose': 'Address_position'}\n",
            "{'time_stamp': 24.724700000000002, 'pose': 'Address_position'}\n",
            "{'time_stamp': 25.625600000000002, 'pose': 'Address_position'}\n",
            "{'time_stamp': 25.658966666666668, 'pose': 'Address_position'}\n",
            "{'time_stamp': 25.692333333333334, 'pose': 'Address_position'}\n",
            "{'time_stamp': 25.7257, 'pose': 'Address_position'}\n",
            "{'time_stamp': 27.994633333333333, 'pose': 'Address_position'}\n",
            "{'time_stamp': 28.361666666666668, 'pose': 'Address_position'}\n",
            "{'time_stamp': 28.395033333333334, 'pose': 'Address_position'}\n",
            "{'time_stamp': 32.29893333333333, 'pose': 'Address_position'}\n",
            "{'time_stamp': 32.36566666666667, 'pose': 'Address_position'}\n",
            "{'time_stamp': 32.76606666666667, 'pose': 'Address_position'}\n",
            "{'time_stamp': 32.89953333333333, 'pose': 'Address_position'}\n",
            "{'time_stamp': 32.932900000000004, 'pose': 'Address_position'}\n",
            "{'time_stamp': 33.06636666666667, 'pose': 'Address_position'}\n",
            "{'time_stamp': 34.968266666666665, 'pose': 'Address_position'}\n",
            "{'time_stamp': 36.536500000000004, 'pose': 'Address_position'}\n",
            "{'time_stamp': 36.56986666666667, 'pose': 'Address_position'}\n",
            "{'time_stamp': 37.17046666666667, 'pose': 'Address_position'}\n",
            "{'time_stamp': 41.4414, 'pose': 'Address_position'}\n",
            "{'time_stamp': 41.47476666666667, 'pose': 'Address_position'}\n",
            "{'time_stamp': 41.875166666666665, 'pose': 'Address_position'}\n",
            "{'time_stamp': 41.90853333333333, 'pose': 'Address_position'}\n",
            "{'time_stamp': 47.38066666666667, 'pose': 'Address_position'}\n",
            "{'time_stamp': 48.4484, 'pose': 'Address_position'}\n",
            "{'time_stamp': 48.481766666666665, 'pose': 'Address_position'}\n",
            "{'time_stamp': 48.848800000000004, 'pose': 'Address_position'}\n",
            "{'time_stamp': 49.149100000000004, 'pose': 'Address_position'}\n",
            "{'time_stamp': 49.315933333333334, 'pose': 'Address_position'}\n",
            "{'time_stamp': 54.187466666666666, 'pose': 'Address_position'}\n",
            "{'time_stamp': 54.3543, 'pose': 'Address_position'}\n",
            "{'time_stamp': 55.18846666666667, 'pose': 'Address_position'}\n",
            "{'time_stamp': 63.22983333333333, 'pose': 'Address_position'}\n",
            "{'time_stamp': 63.2632, 'pose': 'Address_position'}\n",
            "{'time_stamp': 63.29656666666667, 'pose': 'Address_position'}\n",
            "{'time_stamp': 63.32993333333334, 'pose': 'Address_position'}\n",
            "{'time_stamp': 63.99726666666667, 'pose': 'Address_position'}\n",
            "{'time_stamp': 64.13073333333334, 'pose': 'Address_position'}\n",
            "{'time_stamp': 67.10036666666667, 'pose': 'Address_position'}\n",
            "{'time_stamp': 67.50076666666666, 'pose': 'Address_position'}\n",
            "{'time_stamp': 67.53413333333333, 'pose': 'Address_position'}\n",
            "{'time_stamp': 67.7677, 'pose': 'Address_position'}\n",
            "{'time_stamp': 71.63823333333333, 'pose': 'Address_position'}\n",
            "{'time_stamp': 72.5725, 'pose': 'Address_position'}\n",
            "{'time_stamp': 72.60586666666667, 'pose': 'Address_position'}\n",
            "{'time_stamp': 72.63923333333334, 'pose': 'Address_position'}\n",
            "{'time_stamp': 72.6726, 'pose': 'Address_position'}\n",
            "{'time_stamp': 72.70596666666667, 'pose': 'Address_position'}\n",
            "{'time_stamp': 72.73933333333333, 'pose': 'Address_position'}\n",
            "{'time_stamp': 72.7727, 'pose': 'Address_position'}\n",
            "{'time_stamp': 72.80606666666667, 'pose': 'Address_position'}\n",
            "{'time_stamp': 72.83943333333333, 'pose': 'Address_position'}\n",
            "{'time_stamp': 76.1761, 'pose': 'Address_position'}\n",
            "{'time_stamp': 76.20946666666667, 'pose': 'Address_position'}\n",
            "{'time_stamp': 76.24283333333334, 'pose': 'Address_position'}\n"
          ]
        }
      ]
    },
    {
      "cell_type": "code",
      "source": [],
      "metadata": {
        "id": "HLggT1UKsbtr"
      },
      "execution_count": null,
      "outputs": []
    }
  ]
}